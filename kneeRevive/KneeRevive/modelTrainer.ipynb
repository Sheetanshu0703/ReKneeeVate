{
 "cells": [
  {
   "cell_type": "code",
   "execution_count": 25,
   "id": "a699e6b9",
   "metadata": {},
   "outputs": [],
   "source": [
    "import numpy as np\n",
    "import pandas as pd\n",
    "\n",
    "from sklearn.preprocessing import LabelEncoder\n"
   ]
  },
  {
   "cell_type": "code",
   "execution_count": 16,
   "id": "453814da",
   "metadata": {},
   "outputs": [],
   "source": [
    "\n",
    "CSV_PATH     = 'C:/Users/sheet/Desktop/KneeRevive/windowed_kneerevive.csv'\n",
    "SEQ_LEN      = 100\n",
    "FEATURE_COLS = ['AccelX','AccelY','AccelZ','GyroX','GyroY','GyroZ']\n",
    "LABEL_COL    = 'Label'\n"
   ]
  },
  {
   "cell_type": "code",
   "execution_count": 17,
   "id": "64ff4f7a",
   "metadata": {},
   "outputs": [],
   "source": [
    "df = pd.read_csv(CSV_PATH)"
   ]
  },
  {
   "cell_type": "code",
   "execution_count": 18,
   "id": "aa6a2c11",
   "metadata": {},
   "outputs": [
    {
     "data": {
      "text/plain": [
       "<bound method NDFrame.head of           AccelX    AccelY    AccelZ     GyroX     GyroY     GyroZ  WindowID  \\\n",
       "0       0.099343 -0.027653  0.129538  0.076151 -0.011708 -0.011707         0   \n",
       "1       0.315843  0.153487 -0.093895  0.027128 -0.023171 -0.023286         0   \n",
       "2       0.048392 -0.382656 -0.344984 -0.028114 -0.050642  0.015712         0   \n",
       "3      -0.181605 -0.282461  0.293130 -0.011289  0.003376 -0.071237         0   \n",
       "4      -0.108877  0.022185 -0.230199  0.018785 -0.030032 -0.014585         0   \n",
       "...          ...       ...       ...       ...       ...       ...       ...   \n",
       "599995 -0.039331  9.793256 -0.006271 -0.007733  0.021165  0.003815      5999   \n",
       "599996  0.028379  9.792432  0.021559  0.004022 -0.014029  0.007042      5999   \n",
       "599997  0.001787  9.853975 -0.017008 -0.027766 -0.007519  0.002651      5999   \n",
       "599998 -0.018875  9.814159  0.009360 -0.008983 -0.007533 -0.011495      5999   \n",
       "599999  0.025614  9.816862  0.045889 -0.006905  0.007759  0.003495      5999   \n",
       "\n",
       "                Label  \n",
       "0       safe_movement  \n",
       "1       safe_movement  \n",
       "2       safe_movement  \n",
       "3       safe_movement  \n",
       "4       safe_movement  \n",
       "...               ...  \n",
       "599995       standing  \n",
       "599996       standing  \n",
       "599997       standing  \n",
       "599998       standing  \n",
       "599999       standing  \n",
       "\n",
       "[600000 rows x 8 columns]>"
      ]
     },
     "execution_count": 18,
     "metadata": {},
     "output_type": "execute_result"
    }
   ],
   "source": [
    "df.head"
   ]
  },
  {
   "cell_type": "code",
   "execution_count": 19,
   "id": "c903c0dc",
   "metadata": {},
   "outputs": [],
   "source": [
    "#validation\n",
    "n_rows = len(df)\n",
    "assert 'WindowID' in df.columns, \"Need a WindowID column to group timesteps\"\n",
    "n_windows = df['WindowID'].nunique()\n",
    "assert n_windows * SEQ_LEN == n_rows, \"Rows must equal windows×SEQ_LEN\""
   ]
  },
  {
   "cell_type": "code",
   "execution_count": 20,
   "id": "29c4a552",
   "metadata": {},
   "outputs": [],
   "source": [
    "# ─── 3. BUILD X ARRAY ─────────────────────────────────────────────────\n",
    "# Sort by WindowID so timesteps stay in order\n",
    "df = df.sort_values(['WindowID']).reset_index(drop=True)\n",
    "\n",
    "X = df[FEATURE_COLS].values \\\n",
    "       .reshape(n_windows, SEQ_LEN, len(FEATURE_COLS)) \\\n",
    "       .astype(np.float32)"
   ]
  },
  {
   "cell_type": "code",
   "execution_count": 21,
   "id": "620d90e8",
   "metadata": {},
   "outputs": [],
   "source": [
    "# ─── 4. BUILD y VECTOR ─────────────────────────────────────────────────\n",
    "# If all rows in a window share the same label, .first() works; else use mode()\n",
    "y = df.groupby('WindowID')[LABEL_COL].first().values"
   ]
  },
  {
   "cell_type": "code",
   "execution_count": 22,
   "id": "30969a60",
   "metadata": {},
   "outputs": [],
   "source": [
    "# Encode text labels → integers\n",
    "le = LabelEncoder()\n",
    "y_encoded = le.fit_transform(y)"
   ]
  },
  {
   "cell_type": "code",
   "execution_count": 27,
   "id": "235c5f1e",
   "metadata": {},
   "outputs": [
    {
     "ename": "ImportError",
     "evalue": "Could not import '__path__' from fastcore.dispatch - this module has been moved to the fasttransform package.\nTo migrate your code, please see the migration guide at: https://answerdotai.github.io/fasttransform/fastcore_migration_guide.html",
     "output_type": "error",
     "traceback": [
      "\u001b[31m---------------------------------------------------------------------------\u001b[39m",
      "\u001b[31mImportError\u001b[39m                               Traceback (most recent call last)",
      "\u001b[36mCell\u001b[39m\u001b[36m \u001b[39m\u001b[32mIn[27]\u001b[39m\u001b[32m, line 1\u001b[39m\n\u001b[32m----> \u001b[39m\u001b[32m1\u001b[39m \u001b[38;5;28;01mfrom\u001b[39;00m\u001b[38;5;250m \u001b[39m\u001b[34;01mtsai\u001b[39;00m\u001b[34;01m.\u001b[39;00m\u001b[34;01mall\u001b[39;00m\u001b[38;5;250m \u001b[39m\u001b[38;5;28;01mimport\u001b[39;00m *\n",
      "\u001b[36mFile \u001b[39m\u001b[32mc:\\Users\\sheet\\Desktop\\KneeRevive\\knee\\Lib\\site-packages\\tsai\\all.py:2\u001b[39m\n\u001b[32m      1\u001b[39m \u001b[38;5;28;01mimport\u001b[39;00m\u001b[38;5;250m \u001b[39m\u001b[34;01mtsai\u001b[39;00m\n\u001b[32m----> \u001b[39m\u001b[32m2\u001b[39m \u001b[38;5;28;01mfrom\u001b[39;00m\u001b[38;5;250m \u001b[39m\u001b[34;01m.\u001b[39;00m\u001b[34;01mimports\u001b[39;00m\u001b[38;5;250m \u001b[39m\u001b[38;5;28;01mimport\u001b[39;00m *\n\u001b[32m      3\u001b[39m \u001b[38;5;28;01mfrom\u001b[39;00m\u001b[38;5;250m \u001b[39m\u001b[34;01m.\u001b[39;00m\u001b[34;01mutils\u001b[39;00m\u001b[38;5;250m \u001b[39m\u001b[38;5;28;01mimport\u001b[39;00m *\n\u001b[32m      4\u001b[39m \u001b[38;5;28;01mfrom\u001b[39;00m\u001b[38;5;250m \u001b[39m\u001b[34;01m.\u001b[39;00m\u001b[34;01mdata\u001b[39;00m\u001b[34;01m.\u001b[39;00m\u001b[34;01mall\u001b[39;00m\u001b[38;5;250m \u001b[39m\u001b[38;5;28;01mimport\u001b[39;00m *\n",
      "\u001b[36mFile \u001b[39m\u001b[32mc:\\Users\\sheet\\Desktop\\KneeRevive\\knee\\Lib\\site-packages\\tsai\\imports.py:57\u001b[39m\n\u001b[32m     55\u001b[39m \u001b[38;5;28;01mfrom\u001b[39;00m\u001b[38;5;250m \u001b[39m\u001b[34;01mfastai\u001b[39;00m\u001b[34;01m.\u001b[39;00m\u001b[34;01mtorch_core\u001b[39;00m\u001b[38;5;250m \u001b[39m\u001b[38;5;28;01mimport\u001b[39;00m *\n\u001b[32m     56\u001b[39m \u001b[38;5;28;01mfrom\u001b[39;00m\u001b[38;5;250m \u001b[39m\u001b[34;01mfastcore\u001b[39;00m\u001b[34;01m.\u001b[39;00m\u001b[34;01mbasics\u001b[39;00m\u001b[38;5;250m \u001b[39m\u001b[38;5;28;01mimport\u001b[39;00m *\n\u001b[32m---> \u001b[39m\u001b[32m57\u001b[39m \u001b[38;5;28;01mfrom\u001b[39;00m\u001b[38;5;250m \u001b[39m\u001b[34;01mfastcore\u001b[39;00m\u001b[34;01m.\u001b[39;00m\u001b[34;01mdispatch\u001b[39;00m\u001b[38;5;250m \u001b[39m\u001b[38;5;28;01mimport\u001b[39;00m *\n\u001b[32m     58\u001b[39m \u001b[38;5;28;01mfrom\u001b[39;00m\u001b[38;5;250m \u001b[39m\u001b[34;01mfastcore\u001b[39;00m\u001b[34;01m.\u001b[39;00m\u001b[34;01mfoundation\u001b[39;00m\u001b[38;5;250m \u001b[39m\u001b[38;5;28;01mimport\u001b[39;00m *\n\u001b[32m     59\u001b[39m \u001b[38;5;28;01mfrom\u001b[39;00m\u001b[38;5;250m \u001b[39m\u001b[34;01mfastcore\u001b[39;00m\u001b[34;01m.\u001b[39;00m\u001b[34;01mimports\u001b[39;00m\u001b[38;5;250m \u001b[39m\u001b[38;5;28;01mimport\u001b[39;00m *\n",
      "\u001b[36mFile \u001b[39m\u001b[32mc:\\Users\\sheet\\Desktop\\KneeRevive\\knee\\Lib\\site-packages\\fastcore\\dispatch.py:2\u001b[39m, in \u001b[36m__getattr__\u001b[39m\u001b[34m(name)\u001b[39m\n\u001b[32m      1\u001b[39m \u001b[38;5;28;01mdef\u001b[39;00m\u001b[38;5;250m \u001b[39m\u001b[34m__getattr__\u001b[39m(name):\n\u001b[32m----> \u001b[39m\u001b[32m2\u001b[39m      \u001b[38;5;28;01mraise\u001b[39;00m \u001b[38;5;167;01mImportError\u001b[39;00m(\n\u001b[32m      3\u001b[39m          \u001b[33mf\u001b[39m\u001b[33m\"\u001b[39m\u001b[33mCould not import \u001b[39m\u001b[33m'\u001b[39m\u001b[38;5;132;01m{\u001b[39;00mname\u001b[38;5;132;01m}\u001b[39;00m\u001b[33m'\u001b[39m\u001b[33m from fastcore.dispatch - this module has been moved to the fasttransform package.\u001b[39m\u001b[38;5;130;01m\\n\u001b[39;00m\u001b[33m\"\u001b[39m\n\u001b[32m      4\u001b[39m          \u001b[33m\"\u001b[39m\u001b[33mTo migrate your code, please see the migration guide at: https://answerdotai.github.io/fasttransform/fastcore_migration_guide.html\u001b[39m\u001b[33m\"\u001b[39m\n\u001b[32m      5\u001b[39m      )\n",
      "\u001b[31mImportError\u001b[39m: Could not import '__path__' from fastcore.dispatch - this module has been moved to the fasttransform package.\nTo migrate your code, please see the migration guide at: https://answerdotai.github.io/fasttransform/fastcore_migration_guide.html"
     ]
    }
   ],
   "source": [
    "from tsai.all import *\n"
   ]
  },
  {
   "cell_type": "code",
   "execution_count": 26,
   "id": "c6fbce32",
   "metadata": {},
   "outputs": [
    {
     "ename": "NameError",
     "evalue": "name 'get_splits' is not defined",
     "output_type": "error",
     "traceback": [
      "\u001b[31m---------------------------------------------------------------------------\u001b[39m",
      "\u001b[31mNameError\u001b[39m                                 Traceback (most recent call last)",
      "\u001b[36mCell\u001b[39m\u001b[36m \u001b[39m\u001b[32mIn[26]\u001b[39m\u001b[32m, line 2\u001b[39m\n\u001b[32m      1\u001b[39m \u001b[38;5;66;03m#─── 5. TRAIN/VALID SPLIT ──────────────────────────────────────────────\u001b[39;00m\n\u001b[32m----> \u001b[39m\u001b[32m2\u001b[39m splits = \u001b[43mget_splits\u001b[49m(y_encoded, valid_size=\u001b[32m0.2\u001b[39m, stratify=\u001b[38;5;28;01mTrue\u001b[39;00m)\n",
      "\u001b[31mNameError\u001b[39m: name 'get_splits' is not defined"
     ]
    }
   ],
   "source": [
    "#─── 5. TRAIN/VALID SPLIT ──────────────────────────────────────────────\n",
    "splits = get_splits(y_encoded, valid_size=0.2, stratify=True)"
   ]
  },
  {
   "cell_type": "code",
   "execution_count": null,
   "id": "f2683324",
   "metadata": {},
   "outputs": [],
   "source": [
    "# ─── 6. DATALOADERS ───────────────────────────────────────────────────\n",
    "dls = get_ts_dls(X, y_encoded, splits=splits)\n"
   ]
  },
  {
   "cell_type": "code",
   "execution_count": null,
   "id": "f42a8bf1",
   "metadata": {},
   "outputs": [],
   "source": [
    "# ─── 7. LEARNER & FINE-TUNE ───────────────────────────────────────────\n",
    "learn = ts_learner(dls, InceptionTime, pretrained=True)\n",
    "learn.fine_tune(5)"
   ]
  },
  {
   "cell_type": "code",
   "execution_count": null,
   "id": "3bf68a20",
   "metadata": {},
   "outputs": [],
   "source": [
    "# ─── 8. RESULTS ────────────────────────────────────────────────────────\n",
    "learn.show_results(max_n=6)\n"
   ]
  },
  {
   "cell_type": "code",
   "execution_count": null,
   "id": "4865b30b",
   "metadata": {},
   "outputs": [],
   "source": [
    "# ─── 9. SAVE MODEL ────────────────────────────────────────────────────\n",
    "learn.export('kneerevive_inceptiontime.pkl')\n"
   ]
  },
  {
   "cell_type": "code",
   "execution_count": null,
   "id": "5e385058",
   "metadata": {},
   "outputs": [],
   "source": [
    "# ───  🔍 PRINT METRICS ─────────────────────────────────────────────────\n",
    "metrics = learn.validate()\n",
    "print(f\"\\nValidation loss: {metrics[0]:.4f}, accuracy: {metrics[1]:.4f}\")\n"
   ]
  }
 ],
 "metadata": {
  "kernelspec": {
   "display_name": "knee",
   "language": "python",
   "name": "python3"
  },
  "language_info": {
   "codemirror_mode": {
    "name": "ipython",
    "version": 3
   },
   "file_extension": ".py",
   "mimetype": "text/x-python",
   "name": "python",
   "nbconvert_exporter": "python",
   "pygments_lexer": "ipython3",
   "version": "3.12.7"
  }
 },
 "nbformat": 4,
 "nbformat_minor": 5
}
